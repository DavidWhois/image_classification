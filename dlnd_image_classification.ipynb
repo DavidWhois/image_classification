{
 "cells": [
  {
   "cell_type": "markdown",
   "metadata": {
    "collapsed": true
   },
   "source": [
    "# 图像分类\n",
    "\n",
    "在此项目中，你将对 [CIFAR-10 数据集](https://www.cs.toronto.edu/~kriz/cifar.html) 中的图片进行分类。该数据集包含飞机、猫狗和其他物体。你需要预处理这些图片，然后用所有样本训练一个卷积神经网络。图片需要标准化（normalized），标签需要采用 one-hot 编码。你需要应用所学的知识构建卷积的、最大池化（max pooling）、丢弃（dropout）和完全连接（fully connected）的层。最后，你需要在样本图片上看到神经网络的预测结果。\n",
    "\n",
    "\n",
    "## 获取数据\n",
    "\n",
    "请运行以下单元，以下载 [CIFAR-10 数据集（Python版）](https://www.cs.toronto.edu/~kriz/cifar-10-python.tar.gz)。\n"
   ]
  },
  {
   "cell_type": "code",
   "execution_count": 1,
   "metadata": {},
   "outputs": [
    {
     "name": "stdout",
     "output_type": "stream",
     "text": [
      "All files found!\n"
     ]
    }
   ],
   "source": [
    "\"\"\"\n",
    "DON'T MODIFY ANYTHING IN THIS CELL THAT IS BELOW THIS LINE\n",
    "\"\"\"\n",
    "from urllib.request import urlretrieve\n",
    "from os.path import isfile, isdir\n",
    "from tqdm import tqdm\n",
    "import problem_unittests as tests\n",
    "import tarfile\n",
    "\n",
    "cifar10_dataset_folder_path = 'cifar-10-batches-py'\n",
    "\n",
    "# Use Floyd's cifar-10 dataset if present\n",
    "floyd_cifar10_location = '/input/cifar-10/python.tar.gz'\n",
    "if isfile(floyd_cifar10_location):\n",
    "    tar_gz_path = floyd_cifar10_location\n",
    "else:\n",
    "    tar_gz_path = 'cifar-10-python.tar.gz'\n",
    "\n",
    "class DLProgress(tqdm):\n",
    "    last_block = 0\n",
    "\n",
    "    def hook(self, block_num=1, block_size=1, total_size=None):\n",
    "        self.total = total_size\n",
    "        self.update((block_num - self.last_block) * block_size)\n",
    "        self.last_block = block_num\n",
    "\n",
    "if not isfile(tar_gz_path):\n",
    "    with DLProgress(unit='B', unit_scale=True, miniters=1, desc='CIFAR-10 Dataset') as pbar:\n",
    "        urlretrieve(\n",
    "            'https://www.cs.toronto.edu/~kriz/cifar-10-python.tar.gz',\n",
    "            tar_gz_path,\n",
    "            pbar.hook)\n",
    "\n",
    "if not isdir(cifar10_dataset_folder_path):\n",
    "    with tarfile.open(tar_gz_path) as tar:\n",
    "        tar.extractall()\n",
    "        tar.close()\n",
    "\n",
    "\n",
    "tests.test_folder_path(cifar10_dataset_folder_path)"
   ]
  },
  {
   "cell_type": "markdown",
   "metadata": {},
   "source": [
    "## 探索数据\n",
    "\n",
    "该数据集分成了几部分／批次（batches），以免你的机器在计算时内存不足。CIFAR-10 数据集包含 5 个部分，名称分别为 `data_batch_1`、`data_batch_2`，以此类推。每个部分都包含以下某个类别的标签和图片：\n",
    "\n",
    "* 飞机\n",
    "* 汽车\n",
    "* 鸟类\n",
    "* 猫\n",
    "* 鹿\n",
    "* 狗\n",
    "* 青蛙\n",
    "* 马\n",
    "* 船只\n",
    "* 卡车\n",
    "\n",
    "了解数据集也是对数据进行预测的必经步骤。你可以通过更改 `batch_id` 和 `sample_id` 探索下面的代码单元。`batch_id` 是数据集一个部分的 ID（1 到 5）。`sample_id` 是该部分中图片和标签对（label pair）的 ID。\n",
    "\n",
    "问问你自己：“可能的标签有哪些？”、“图片数据的值范围是多少？”、“标签是按顺序排列，还是随机排列的？”。思考类似的问题，有助于你预处理数据，并使预测结果更准确。\n"
   ]
  },
  {
   "cell_type": "code",
   "execution_count": 2,
   "metadata": {},
   "outputs": [
    {
     "name": "stdout",
     "output_type": "stream",
     "text": [
      "\n",
      "Stats of batch 1:\n",
      "Samples: 10000\n",
      "Label Counts: {0: 1005, 1: 974, 2: 1032, 3: 1016, 4: 999, 5: 937, 6: 1030, 7: 1001, 8: 1025, 9: 981}\n",
      "First 20 Labels: [6, 9, 9, 4, 1, 1, 2, 7, 8, 3, 4, 7, 7, 2, 9, 9, 9, 3, 2, 6]\n",
      "\n",
      "Example of Image 4:\n",
      "Image - Min Value: 0 Max Value: 254\n",
      "Image - Shape: (32, 32, 3)\n",
      "Label - Label Id: 1 Name: automobile\n"
     ]
    },
    {
     "data": {
      "image/png": "[encoded data removed]",
      "text/plain": [
       "<matplotlib.figure.Figure at 0x1a13f34710>"
      ]
     },
     "metadata": {
      "image/png": {
       "height": 250,
       "width": 253
      }
     },
     "output_type": "display_data"
    }
   ],
   "source": [
    "%matplotlib inline\n",
    "%config InlineBackend.figure_format = 'retina'\n",
    "\n",
    "import helper\n",
    "import numpy as np\n",
    "\n",
    "# Explore the dataset\n",
    "batch_id = 1\n",
    "sample_id = 4\n",
    "helper.display_stats(cifar10_dataset_folder_path, batch_id, sample_id)"
   ]
  },
  {
   "cell_type": "markdown",
   "metadata": {},
   "source": [
    "## 实现预处理函数\n",
    "\n",
    "### 标准化\n",
    "\n",
    "在下面的单元中，实现 `normalize` 函数，传入图片数据 `x`，并返回标准化 Numpy 数组。值应该在 0 到 1 的范围内（含 0 和 1）。返回对象应该和 `x` 的形状一样。\n"
   ]
  },
  {
   "cell_type": "code",
   "execution_count": 3,
   "metadata": {},
   "outputs": [
    {
     "name": "stdout",
     "output_type": "stream",
     "text": [
      "Tests Passed\n"
     ]
    }
   ],
   "source": [
    "def normalize(x):\n",
    "    \"\"\"\n",
    "    Normalize a list of sample image data in the range of 0 to 1\n",
    "    : x: List of image data.  The image shape is (32, 32, 3)\n",
    "    : return: Numpy array of normalize data\n",
    "    \"\"\"\n",
    "    # TODO: Implement Function\n",
    "    norm_x = x/255\n",
    "    return norm_x\n",
    "\n",
    "\n",
    "\"\"\"\n",
    "DON'T MODIFY ANYTHING IN THIS CELL THAT IS BELOW THIS LINE\n",
    "\"\"\"\n",
    "tests.test_normalize(normalize)"
   ]
  },
  {
   "cell_type": "markdown",
   "metadata": {},
   "source": [
    "### One-hot 编码\n",
    "\n",
    "和之前的代码单元一样，你将为预处理实现一个函数。这次，你将实现 `one_hot_encode` 函数。输入，也就是 `x`，是一个标签列表。实现该函数，以返回为 one_hot 编码的 Numpy 数组的标签列表。标签的可能值为 0 到 9。每次调用 `one_hot_encode` 时，对于每个值，one_hot 编码函数应该返回相同的编码。确保将编码映射保存到该函数外面。\n",
    "\n",
    "提示：不要重复发明轮子。\n"
   ]
  },
  {
   "cell_type": "code",
   "execution_count": 4,
   "metadata": {},
   "outputs": [
    {
     "name": "stdout",
     "output_type": "stream",
     "text": [
      "Tests Passed\n"
     ]
    }
   ],
   "source": [
    "from tflearn.data_utils import to_categorical\n",
    "def one_hot_encode(x):\n",
    "    \"\"\"\n",
    "    One hot encode a list of sample labels. Return a one-hot encoded vector for each label.\n",
    "    : x: List of sample Labels\n",
    "    : return: Numpy array of one-hot encoded labels\n",
    "    \"\"\"\n",
    "    # TODO: Implement Function\n",
    "    x_one_hot = to_categorical(x,10)\n",
    "    return x_one_hot\n",
    "\n",
    "\n",
    "\"\"\"\n",
    "DON'T MODIFY ANYTHING IN THIS CELL THAT IS BELOW THIS LINE\n",
    "\"\"\"\n",
    "tests.test_one_hot_encode(one_hot_encode)"
   ]
  },
  {
   "cell_type": "markdown",
   "metadata": {},
   "source": [
    "### 随机化数据\n",
    "\n",
    "之前探索数据时，你已经了解到，样本的顺序是随机的。再随机化一次也不会有什么关系，但是对于这个数据集没有必要。\n"
   ]
  },
  {
   "cell_type": "markdown",
   "metadata": {},
   "source": [
    "## 预处理所有数据并保存\n",
    "\n",
    "运行下方的代码单元，将预处理所有 CIFAR-10 数据，并保存到文件中。下面的代码还使用了 10% 的训练数据，用来验证。\n"
   ]
  },
  {
   "cell_type": "code",
   "execution_count": 5,
   "metadata": {
    "collapsed": true
   },
   "outputs": [],
   "source": [
    "\"\"\"\n",
    "DON'T MODIFY ANYTHING IN THIS CELL\n",
    "\"\"\"\n",
    "# Preprocess Training, Validation, and Testing Data\n",
    "helper.preprocess_and_save_data(cifar10_dataset_folder_path, normalize, one_hot_encode)"
   ]
  },
  {
   "cell_type": "markdown",
   "metadata": {},
   "source": [
    "# 检查点\n",
    "\n",
    "这是你的第一个检查点。如果你什么时候决定再回到该记事本，或需要重新启动该记事本，你可以从这里开始。预处理的数据已保存到本地。\n"
   ]
  },
  {
   "cell_type": "code",
   "execution_count": 27,
   "metadata": {
    "collapsed": true
   },
   "outputs": [],
   "source": [
    "\"\"\"\n",
    "DON'T MODIFY ANYTHING IN THIS CELL\n",
    "\"\"\"\n",
    "import pickle\n",
    "import problem_unittests as tests\n",
    "import helper\n",
    "\n",
    "# Load the Preprocessed Validation data\n",
    "valid_features, valid_labels = pickle.load(open('preprocess_validation.p', mode='rb'))"
   ]
  },
  {
   "cell_type": "markdown",
   "metadata": {},
   "source": [
    "## 构建网络\n",
    "\n",
    "对于该神经网络，你需要将每层都构建为一个函数。你看到的大部分代码都位于函数外面。要更全面地测试你的代码，我们需要你将每层放入一个函数中。这样使我们能够提供更好的反馈，并使用我们的统一测试检测简单的错误，然后再提交项目。\n",
    "\n",
    ">**注意**：如果你觉得每周很难抽出足够的时间学习这门课程，我们为此项目提供了一个小捷径。对于接下来的几个问题，你可以使用 [TensorFlow Layers](https://www.tensorflow.org/api_docs/python/tf/layers) 或 [TensorFlow Layers (contrib)](https://www.tensorflow.org/api_guides/python/contrib.layers) 程序包中的类来构建每个层级，但是“卷积和最大池化层级”部分的层级除外。TF Layers 和 Keras 及 TFLearn 层级类似，因此很容易学会。\n",
    "\n",
    ">但是，如果你想充分利用这门课程，请尝试自己解决所有问题，不使用 TF Layers 程序包中的任何类。你依然可以使用其他程序包中的类，这些类和你在 TF Layers 中的类名称是一样的！例如，你可以使用 TF Neural Network 版本的 `conv2d` 类 [tf.nn.conv2d](https://www.tensorflow.org/api_docs/python/tf/nn/conv2d)，而不是 TF Layers 版本的 `conv2d` 类 [tf.layers.conv2d](https://www.tensorflow.org/api_docs/python/tf/layers/conv2d)。\n",
    "\n",
    "我们开始吧！\n",
    "\n",
    "\n",
    "### 输入\n",
    "\n",
    "神经网络需要读取图片数据、one-hot 编码标签和丢弃保留概率（dropout keep probability）。请实现以下函数：\n",
    "\n",
    "* 实现 `neural_net_image_input`\n",
    " * 返回 [TF Placeholder](https://www.tensorflow.org/api_docs/python/tf/placeholder)\n",
    " * 使用 `image_shape` 设置形状，部分大小设为 `None`\n",
    " * 使用 [TF Placeholder](https://www.tensorflow.org/api_docs/python/tf/placeholder) 中的 TensorFlow `name` 参数对 TensorFlow 占位符 \"x\" 命名\n",
    "* 实现 `neural_net_label_input`\n",
    " * 返回 [TF Placeholder](https://www.tensorflow.org/api_docs/python/tf/placeholder)\n",
    " * 使用 `n_classes` 设置形状，部分大小设为 `None`\n",
    " * 使用 [TF Placeholder](https://www.tensorflow.org/api_docs/python/tf/placeholder) 中的 TensorFlow `name` 参数对 TensorFlow 占位符 \"y\" 命名\n",
    "* 实现 `neural_net_keep_prob_input`\n",
    " * 返回 [TF Placeholder](https://www.tensorflow.org/api_docs/python/tf/placeholder)，用于丢弃保留概率\n",
    " * 使用 [TF Placeholder](https://www.tensorflow.org/api_docs/python/tf/placeholder) 中的 TensorFlow `name` 参数对 TensorFlow 占位符 \"keep_prob\" 命名\n",
    "\n",
    "这些名称将在项目结束时，用于加载保存的模型。\n",
    "\n",
    "注意：TensorFlow 中的 `None` 表示形状可以是动态大小。"
   ]
  },
  {
   "cell_type": "code",
   "execution_count": 28,
   "metadata": {},
   "outputs": [
    {
     "name": "stdout",
     "output_type": "stream",
     "text": [
      "Image Input Tests Passed.\n",
      "Label Input Tests Passed.\n",
      "Keep Prob Tests Passed.\n"
     ]
    }
   ],
   "source": [
    "import tensorflow as tf\n",
    "\n",
    "def neural_net_image_input(image_shape):\n",
    "    \"\"\"\n",
    "    Return a Tensor for a batch of image input\n",
    "    : image_shape: Shape of the images\n",
    "    : return: Tensor for image input.\n",
    "    \"\"\"\n",
    "    # TODO: Implement Function\n",
    "    x = tf.placeholder(tf.float32,[None,image_shape[0],image_shape[1],image_shape[2]],name='x')\n",
    "    return x\n",
    "\n",
    "\n",
    "def neural_net_label_input(n_classes):\n",
    "    \"\"\"\n",
    "    Return a Tensor for a batch of label input\n",
    "    : n_classes: Number of classes\n",
    "    : return: Tensor for label input.\n",
    "    \"\"\"\n",
    "    # TODO: Implement Function\n",
    "    y = tf.placeholder(tf.float32,[None,n_classes],name='y')                               \n",
    "    return y\n",
    "\n",
    "\n",
    "def neural_net_keep_prob_input():\n",
    "    \"\"\"\n",
    "    Return a Tensor for keep probability\n",
    "    : return: Tensor for keep probability.\n",
    "    \"\"\"\n",
    "    # TODO: Implement Function\n",
    "    keep_prob = tf.placeholder(tf.float32,name='keep_prob')\n",
    "    return keep_prob\n",
    "\n",
    "\n",
    "\"\"\"\n",
    "DON'T MODIFY ANYTHING IN THIS CELL THAT IS BELOW THIS LINE\n",
    "\"\"\"\n",
    "tf.reset_default_graph()\n",
    "tests.test_nn_image_inputs(neural_net_image_input)\n",
    "tests.test_nn_label_inputs(neural_net_label_input)\n",
    "tests.test_nn_keep_prob_inputs(neural_net_keep_prob_input)"
   ]
  },
  {
   "cell_type": "markdown",
   "metadata": {},
   "source": [
    "### 卷积和最大池化层\n",
    "\n",
    "卷积层级适合处理图片。对于此代码单元，你应该实现函数 `conv2d_maxpool` 以便应用卷积然后进行最大池化：\n",
    "\n",
    "* 使用 `conv_ksize`、`conv_num_outputs` 和 `x_tensor` 的形状创建权重（weight）和偏置（bias）。\n",
    "* 使用权重和 `conv_strides` 对 `x_tensor` 应用卷积。\n",
    " * 建议使用我们建议的间距（padding），当然也可以使用任何其他间距。\n",
    "* 添加偏置\n",
    "* 向卷积中添加非线性激活（nonlinear activation）\n",
    "* 使用 `pool_ksize` 和 `pool_strides` 应用最大池化\n",
    " * 建议使用我们建议的间距（padding），当然也可以使用任何其他间距。\n",
    "\n",
    "**注意**：对于**此层**，**请勿使用** [TensorFlow Layers](https://www.tensorflow.org/api_docs/python/tf/layers) 或 [TensorFlow Layers (contrib)](https://www.tensorflow.org/api_guides/python/contrib.layers)，但是仍然可以使用 TensorFlow 的 [Neural Network](https://www.tensorflow.org/api_docs/python/tf/nn) 包。对于所有**其他层**，你依然可以使用快捷方法。\n"
   ]
  },
  {
   "cell_type": "code",
   "execution_count": 44,
   "metadata": {},
   "outputs": [
    {
     "name": "stdout",
     "output_type": "stream",
     "text": [
      "Tests Passed\n"
     ]
    }
   ],
   "source": [
    "def conv2d_maxpool(x_tensor, conv_num_outputs, conv_ksize, conv_strides, pool_ksize, pool_strides):\n",
    "    \"\"\"\n",
    "    Apply convolution then max pooling to x_tensor\n",
    "    :param x_tensor: TensorFlow Tensor\n",
    "    :param conv_num_outputs: Number of outputs for the convolutional layer\n",
    "    :param conv_ksize: kernal size 2-D Tuple for the convolutional layer\n",
    "    :param conv_strides: Stride 2-D Tuple for convolution\n",
    "    :param pool_ksize: kernal size 2-D Tuple for pool\n",
    "    :param pool_strides: Stride 2-D Tuple for pool\n",
    "    : return: A tensor that represents convolution and max pooling of x_tensor\n",
    "    \"\"\"\n",
    "    # TODO: Implement Function\n",
    "    xshape = np.array(x_tensor.get_shape())\n",
    "    d = int(xshape[3])\n",
    "    W1 = tf.Variable(tf.truncated_normal([conv_ksize[0],conv_ksize[1],d,conv_num_outputs],stddev = 0.05))\n",
    "    b1 = tf.Variable(tf.zeros([conv_num_outputs]))\n",
    "    # 卷积\n",
    "    conv_strides = [1,conv_strides[0],conv_strides[1],1]\n",
    "    Z1 = tf.nn.conv2d(x_tensor, W1, conv_strides, 'VALID') + b1\n",
    "    A1 = tf.nn.relu(Z1)\n",
    "    # 池化\n",
    "    pool_strides = [1,pool_strides[0],pool_strides[1],1]\n",
    "    pool_ksize = [1,pool_ksize[0],pool_ksize[1],1]\n",
    "    A2 = tf.nn.max_pool(A1, pool_ksize, pool_strides, 'VALID')\n",
    "    \n",
    "    return A2 \n",
    "\n",
    "\n",
    "\"\"\"\n",
    "DON'T MODIFY ANYTHING IN THIS CELL THAT IS BELOW THIS LINE\n",
    "\"\"\"\n",
    "tests.test_con_pool(conv2d_maxpool)"
   ]
  },
  {
   "cell_type": "markdown",
   "metadata": {},
   "source": [
    "### 扁平化层\n",
    "\n",
    "实现 `flatten` 函数，将 `x_tensor` 的维度从四维张量（4-D tensor）变成二维张量。输出应该是形状（*部分大小（Batch Size）*，*扁平化图片大小（Flattened Image Size）*）。快捷方法：对于此层，你可以使用 [TensorFlow Layers](https://www.tensorflow.org/api_docs/python/tf/layers) 或 [TensorFlow Layers (contrib)](https://www.tensorflow.org/api_guides/python/contrib.layers) 包中的类。如果你想要更大挑战，可以仅使用其他 TensorFlow 程序包。\n"
   ]
  },
  {
   "cell_type": "code",
   "execution_count": 45,
   "metadata": {},
   "outputs": [
    {
     "name": "stdout",
     "output_type": "stream",
     "text": [
      "Tests Passed\n"
     ]
    }
   ],
   "source": [
    "def flatten(x_tensor):\n",
    "    \"\"\"\n",
    "    Flatten x_tensor to (Batch Size, Flattened Image Size)\n",
    "    : x_tensor: A tensor of size (Batch Size, ...), where ... are the image dimensions.\n",
    "    : return: A tensor of size (Batch Size, Flattened Image Size).\n",
    "    \"\"\"\n",
    "    # TODO: Implement Function\n",
    "    s = x_tensor.get_shape()\n",
    "    d = s[1]*s[2]*s[3]\n",
    "    d = int(d)\n",
    "    \n",
    "    x_tensor = tf.reshape(x_tensor, [-1,d])\n",
    "    return x_tensor\n",
    "\n",
    "\n",
    "\"\"\"\n",
    "DON'T MODIFY ANYTHING IN THIS CELL THAT IS BELOW THIS LINE\n",
    "\"\"\"\n",
    "tests.test_flatten(flatten)"
   ]
  },
  {
   "cell_type": "markdown",
   "metadata": {},
   "source": [
    "### 全连接层\n",
    "\n",
    "实现 `fully_conn` 函数，以向 `x_tensor` 应用完全连接的层级，形状为（*部分大小（Batch Size）*，*num_outputs*）。快捷方法：对于此层，你可以使用 [TensorFlow Layers](https://www.tensorflow.org/api_docs/python/tf/layers) 或 [TensorFlow Layers (contrib)](https://www.tensorflow.org/api_guides/python/contrib.layers) 包中的类。如果你想要更大挑战，可以仅使用其他 TensorFlow 程序包。"
   ]
  },
  {
   "cell_type": "code",
   "execution_count": 46,
   "metadata": {},
   "outputs": [
    {
     "name": "stdout",
     "output_type": "stream",
     "text": [
      "Tests Passed\n"
     ]
    }
   ],
   "source": [
    "def fully_conn(x_tensor, num_outputs):\n",
    "    \"\"\"\n",
    "    Apply a fully connected layer to x_tensor using weight and bias\n",
    "    : x_tensor: A 2-D tensor where the first dimension is batch size.\n",
    "    : num_outputs: The number of output that the new tensor should be.\n",
    "    : return: A 2-D tensor where the second dimension is num_outputs.\n",
    "    \"\"\"\n",
    "    # TODO: Implement Function\n",
    "    x_shape = x_tensor.get_shape()\n",
    "    n_features = int(x_shape[1])\n",
    "    W_full = tf.Variable(tf.truncated_normal([n_features,num_outputs],stddev = 0.05))\n",
    "    b_full = tf.Variable(tf.zeros([1,num_outputs]))\n",
    "    \n",
    "    #全连接\n",
    "    Z1 = tf.add(tf.matmul(x_tensor,W_full),b_full)\n",
    "    A1 = tf.nn.relu(Z1)\n",
    "    return A1\n",
    "\n",
    "\n",
    "\"\"\"\n",
    "DON'T MODIFY ANYTHING IN THIS CELL THAT IS BELOW THIS LINE\n",
    "\"\"\"\n",
    "tests.test_fully_conn(fully_conn)"
   ]
  },
  {
   "cell_type": "markdown",
   "metadata": {},
   "source": [
    "### 输出层\n",
    "\n",
    "实现 `output` 函数，向 x_tensor 应用完全连接的层级，形状为（*部分大小（Batch Size）*，*num_outputs*）。快捷方法：对于此层，你可以使用 [TensorFlow Layers](https://www.tensorflow.org/api_docs/python/tf/layers) 或 [TensorFlow Layers (contrib)](https://www.tensorflow.org/api_guides/python/contrib.layers) 包中的类。如果你想要更大挑战，可以仅使用其他 TensorFlow 程序包。\n",
    "\n",
    "**注意**：该层级不应应用 Activation、softmax 或交叉熵（cross entropy）。"
   ]
  },
  {
   "cell_type": "code",
   "execution_count": 47,
   "metadata": {},
   "outputs": [
    {
     "name": "stdout",
     "output_type": "stream",
     "text": [
      "Tests Passed\n"
     ]
    }
   ],
   "source": [
    "def output(x_tensor, num_outputs):\n",
    "    \"\"\"\n",
    "    Apply a output layer to x_tensor using weight and bias\n",
    "    : x_tensor: A 2-D tensor where the first dimension is batch size.\n",
    "    : num_outputs: The number of output that the new tensor should be.\n",
    "    : return: A 2-D tensor where the second dimension is num_outputs.\n",
    "    \"\"\"\n",
    "    # TODO: Implement Function\n",
    "    x_shape = x_tensor.get_shape()\n",
    "    n_features = int(x_shape[1])\n",
    "    W = tf.Variable(tf.truncated_normal([n_features,num_outputs],stddev = 0.05))\n",
    "    b = tf.Variable(tf.zeros([1,num_outputs]))\n",
    "    \n",
    "    #全连接\n",
    "    Z1 = tf.add(tf.matmul(x_tensor,W),b)\n",
    "    \n",
    "    return Z1\n",
    "\n",
    "\n",
    "\"\"\"\n",
    "DON'T MODIFY ANYTHING IN THIS CELL THAT IS BELOW THIS LINE\n",
    "\"\"\"\n",
    "tests.test_output(output)"
   ]
  },
  {
   "cell_type": "markdown",
   "metadata": {},
   "source": [
    "### 创建卷积模型\n",
    "\n",
    "实现函数 `conv_net`， 创建卷积神经网络模型。该函数传入一批图片 `x`，并输出对数（logits）。使用你在上方创建的层创建此模型：\n",
    "\n",
    "* 应用 1、2 或 3 个卷积和最大池化层（Convolution and Max Pool layers）\n",
    "* 应用一个扁平层（Flatten Layer）\n",
    "* 应用 1、2 或 3 个完全连接层（Fully Connected Layers）\n",
    "* 应用一个输出层（Output Layer）\n",
    "* 返回输出\n",
    "* 使用 `keep_prob` 向模型中的一个或多个层应用 [TensorFlow 的 Dropout](https://www.tensorflow.org/api_docs/python/tf/nn/dropout)"
   ]
  },
  {
   "cell_type": "code",
   "execution_count": 53,
   "metadata": {},
   "outputs": [
    {
     "name": "stdout",
     "output_type": "stream",
     "text": [
      "Neural Network Built!\n"
     ]
    }
   ],
   "source": [
    "def conv_net(x, keep_prob):\n",
    "    \"\"\"\n",
    "    Create a convolutional neural network model\n",
    "    : x: Placeholder tensor that holds image data.\n",
    "    : keep_prob: Placeholder tensor that hold dropout keep probability.\n",
    "    : return: Tensor that represents logits\n",
    "    \"\"\"\n",
    "    # Apply 1, 2, or 3 Convolution and Max Pool layers\n",
    "    #    Play around with different number of outputs, kernel size and stride\n",
    "    # Function Definition from Above:\n",
    "    #    conv2d_maxpool(x_tensor, conv_num_outputs, conv_ksize, conv_strides, pool_ksize, pool_strides)\n",
    "    #print(x.get_shape())\n",
    "    A = conv2d_maxpool(x, 15, (2,2), (1,1), (2,2), (2,2))\n",
    "    #print(A1.get_shape())\n",
    "    A = conv2d_maxpool(A, 24, (2,2), (1,1), (2,2), (1,1))\n",
    "    #print(A2.get_shape())\n",
    "    A = conv2d_maxpool(A, 64, (2,2), (1,1), (2,2), (1,1))\n",
    "    \n",
    "    \n",
    "\n",
    "    # Apply a Flatten Layer\n",
    "    # Function Definition from Above:\n",
    "    A = flatten(A)\n",
    "    \n",
    "\n",
    "    # Apply 1, 2, or 3 Fully Connected Layers\n",
    "    #    Play around with different number of outputs\n",
    "    # Function Definition from Above:\n",
    "    A = fully_conn(A, 120)\n",
    "    A = tf.nn.dropout(A,keep_prob)\n",
    "    A = fully_conn(A,84)\n",
    "    \n",
    "    \n",
    "    # TODO: Apply an Output Layer\n",
    "    #    Set this to the number of classes\n",
    "    # Function Definition from Above:\n",
    "    out = output(A, 10)\n",
    "    \n",
    "    \n",
    "    # return output\n",
    "    return out\n",
    "\n",
    "\n",
    "\"\"\"\n",
    "DON'T MODIFY ANYTHING IN THIS CELL THAT IS BELOW THIS LINE\n",
    "\"\"\"\n",
    "\n",
    "##############################\n",
    "## Build the Neural Network ##\n",
    "##############################\n",
    "\n",
    "# Remove previous weights, bias, inputs, etc..\n",
    "tf.reset_default_graph()\n",
    "\n",
    "# Inputs\n",
    "x = neural_net_image_input((32, 32, 3))\n",
    "y = neural_net_label_input(10)\n",
    "keep_prob = neural_net_keep_prob_input()\n",
    "\n",
    "# Model\n",
    "logits = conv_net(x, keep_prob)\n",
    "\n",
    "# Name logits Tensor, so that is can be loaded from disk after training\n",
    "logits = tf.identity(logits, name='logits')\n",
    "\n",
    "# Loss and Optimizer\n",
    "cost = tf.reduce_mean(tf.nn.softmax_cross_entropy_with_logits(logits=logits, labels=y))\n",
    "optimizer = tf.train.AdamOptimizer().minimize(cost)\n",
    "\n",
    "# Accuracy\n",
    "correct_pred = tf.equal(tf.argmax(logits, 1), tf.argmax(y, 1))\n",
    "accuracy = tf.reduce_mean(tf.cast(correct_pred, tf.float32), name='accuracy')\n",
    "\n",
    "tests.test_conv_net(conv_net)"
   ]
  },
  {
   "cell_type": "markdown",
   "metadata": {},
   "source": [
    "## 训练神经网络\n",
    "\n",
    "### 单次优化\n",
    "\n",
    "实现函数 `train_neural_network` 以进行单次优化（single optimization）。该优化应该使用 `optimizer` 优化 `session`，其中 `feed_dict` 具有以下参数：\n",
    "\n",
    "* `x` 表示图片输入\n",
    "* `y` 表示标签\n",
    "* `keep_prob` 表示丢弃的保留率\n",
    "\n",
    "每个部分都会调用该函数，所以 `tf.global_variables_initializer()` 已经被调用。\n",
    "\n",
    "注意：不需要返回任何内容。该函数只是用来优化神经网络。\n"
   ]
  },
  {
   "cell_type": "code",
   "execution_count": 54,
   "metadata": {},
   "outputs": [
    {
     "name": "stdout",
     "output_type": "stream",
     "text": [
      "Tests Passed\n"
     ]
    }
   ],
   "source": [
    "def train_neural_network(session, optimizer, keep_probability, feature_batch, label_batch):\n",
    "    \"\"\"\n",
    "    Optimize the session on a batch of images and labels\n",
    "    : session: Current TensorFlow session\n",
    "    : optimizer: TensorFlow optimizer function\n",
    "    : keep_probability: keep probability\n",
    "    : feature_batch: Batch of Numpy image data\n",
    "    : label_batch: Batch of Numpy label data\n",
    "    \"\"\"\n",
    "    # Implement Function\n",
    "    session.run(optimizer,feed_dict={x:feature_batch,y:label_batch,keep_prob:keep_probability})\n",
    "\n",
    "\n",
    "\"\"\"\n",
    "DON'T MODIFY ANYTHING IN THIS CELL THAT IS BELOW THIS LINE\n",
    "\"\"\"\n",
    "tests.test_train_nn(train_neural_network)"
   ]
  },
  {
   "cell_type": "markdown",
   "metadata": {},
   "source": [
    "### 显示数据\n",
    "\n",
    "实现函数 `print_stats` 以输出损失和验证准确率。使用全局变量 `valid_features` 和 `valid_labels` 计算验证准确率。使用保留率 `1.0` 计算损失和验证准确率（loss and validation accuracy）。\n"
   ]
  },
  {
   "cell_type": "code",
   "execution_count": 55,
   "metadata": {
    "collapsed": true
   },
   "outputs": [],
   "source": [
    "def print_stats(session, feature_batch, label_batch, cost, accuracy):\n",
    "    \"\"\"\n",
    "    Print information about loss and validation accuracy\n",
    "    : session: Current TensorFlow session\n",
    "    : feature_batch: Batch of Numpy image data\n",
    "    : label_batch: Batch of Numpy label data\n",
    "    : cost: TensorFlow cost function\n",
    "    : accuracy: TensorFlow accuracy function\n",
    "    \"\"\"\n",
    "    # Implement Function\n",
    "    cost = session.run(cost,feed_dict={x:feature_batch,y:label_batch,keep_prob:1.})\n",
    "    accuracy = session.run(accuracy,feed_dict={x:valid_features,y:valid_labels,keep_prob:1.})\n",
    "    print('cost:',cost,'val_accuracy:',accuracy)\n",
    "    "
   ]
  },
  {
   "cell_type": "markdown",
   "metadata": {},
   "source": [
    "### 超参数\n",
    "\n",
    "调试以下超参数：\n",
    "* 设置 `epochs` 表示神经网络停止学习或开始过拟合的迭代次数\n",
    "* 设置 `batch_size`，表示机器内存允许的部分最大体积。大部分人设为以下常见内存大小：\n",
    "\n",
    " * 64\n",
    " * 128\n",
    " * 256\n",
    " * ...\n",
    "* 设置 `keep_probability` 表示使用丢弃时保留节点的概率"
   ]
  },
  {
   "cell_type": "code",
   "execution_count": 56,
   "metadata": {
    "collapsed": true
   },
   "outputs": [],
   "source": [
    "# TODO: Tune Parameters\n",
    "epochs = 50\n",
    "batch_size = 128\n",
    "keep_probability = 0.5"
   ]
  },
  {
   "cell_type": "markdown",
   "metadata": {},
   "source": [
    "### 在单个 CIFAR-10 部分上训练\n",
    "\n",
    "我们先用单个部分，而不是用所有的 CIFAR-10 批次训练神经网络。这样可以节省时间，并对模型进行迭代，以提高准确率。最终验证准确率达到 50% 或以上之后，在下一部分对所有数据运行模型。\n"
   ]
  },
  {
   "cell_type": "code",
   "execution_count": 57,
   "metadata": {},
   "outputs": [
    {
     "name": "stdout",
     "output_type": "stream",
     "text": [
      "Checking the Training on a Single Batch...\n",
      "Epoch  1, CIFAR-10 Batch 1:  cost: 2.21189 val_accuracy: 0.229\n",
      "Epoch  2, CIFAR-10 Batch 1:  cost: 2.21032 val_accuracy: 0.2644\n",
      "Epoch  3, CIFAR-10 Batch 1:  cost: 2.14035 val_accuracy: 0.2868\n",
      "Epoch  4, CIFAR-10 Batch 1:  cost: 2.08959 val_accuracy: 0.3448\n",
      "Epoch  5, CIFAR-10 Batch 1:  cost: 1.99291 val_accuracy: 0.3734\n",
      "Epoch  6, CIFAR-10 Batch 1:  cost: 1.91243 val_accuracy: 0.3928\n",
      "Epoch  7, CIFAR-10 Batch 1:  cost: 1.83664 val_accuracy: 0.4044\n",
      "Epoch  8, CIFAR-10 Batch 1:  cost: 1.80018 val_accuracy: 0.417\n",
      "Epoch  9, CIFAR-10 Batch 1:  cost: 1.74446 val_accuracy: 0.4202\n",
      "Epoch 10, CIFAR-10 Batch 1:  cost: 1.65568 val_accuracy: 0.4358\n",
      "Epoch 11, CIFAR-10 Batch 1:  cost: 1.6112 val_accuracy: 0.4426\n",
      "Epoch 12, CIFAR-10 Batch 1:  cost: 1.52785 val_accuracy: 0.4462\n",
      "Epoch 13, CIFAR-10 Batch 1:  cost: 1.48319 val_accuracy: 0.4476\n",
      "Epoch 14, CIFAR-10 Batch 1:  cost: 1.46151 val_accuracy: 0.4682\n",
      "Epoch 15, CIFAR-10 Batch 1:  cost: 1.38629 val_accuracy: 0.4712\n",
      "Epoch 16, CIFAR-10 Batch 1:  cost: 1.36147 val_accuracy: 0.4712\n",
      "Epoch 17, CIFAR-10 Batch 1:  cost: 1.31822 val_accuracy: 0.4722\n",
      "Epoch 18, CIFAR-10 Batch 1:  cost: 1.28936 val_accuracy: 0.4852\n",
      "Epoch 19, CIFAR-10 Batch 1:  cost: 1.23181 val_accuracy: 0.4876\n",
      "Epoch 20, CIFAR-10 Batch 1:  cost: 1.24563 val_accuracy: 0.4902\n",
      "Epoch 21, CIFAR-10 Batch 1:  cost: 1.1907 val_accuracy: 0.4964\n",
      "Epoch 22, CIFAR-10 Batch 1:  cost: 1.16006 val_accuracy: 0.5\n",
      "Epoch 23, CIFAR-10 Batch 1:  cost: 1.12633 val_accuracy: 0.5144\n",
      "Epoch 24, CIFAR-10 Batch 1:  cost: 1.13579 val_accuracy: 0.4972\n",
      "Epoch 25, CIFAR-10 Batch 1:  cost: 1.11543 val_accuracy: 0.5044\n",
      "Epoch 26, CIFAR-10 Batch 1:  cost: 1.0597 val_accuracy: 0.5044\n",
      "Epoch 27, CIFAR-10 Batch 1:  cost: 0.987688 val_accuracy: 0.5256\n",
      "Epoch 28, CIFAR-10 Batch 1:  cost: 1.03581 val_accuracy: 0.5212\n",
      "Epoch 29, CIFAR-10 Batch 1:  cost: 0.995408 val_accuracy: 0.5294\n",
      "Epoch 30, CIFAR-10 Batch 1:  cost: 0.96098 val_accuracy: 0.5384\n",
      "Epoch 31, CIFAR-10 Batch 1:  cost: 0.906194 val_accuracy: 0.5314\n",
      "Epoch 32, CIFAR-10 Batch 1:  cost: 0.94009 val_accuracy: 0.5418\n",
      "Epoch 33, CIFAR-10 Batch 1:  cost: 0.891328 val_accuracy: 0.5454\n",
      "Epoch 34, CIFAR-10 Batch 1:  cost: 0.897 val_accuracy: 0.5416\n",
      "Epoch 35, CIFAR-10 Batch 1:  cost: 0.863113 val_accuracy: 0.5516\n",
      "Epoch 36, CIFAR-10 Batch 1:  cost: 0.826924 val_accuracy: 0.553\n",
      "Epoch 37, CIFAR-10 Batch 1:  cost: 0.800798 val_accuracy: 0.5578\n",
      "Epoch 38, CIFAR-10 Batch 1:  cost: 0.806015 val_accuracy: 0.5612\n",
      "Epoch 39, CIFAR-10 Batch 1:  cost: 0.78776 val_accuracy: 0.5538\n",
      "Epoch 40, CIFAR-10 Batch 1:  cost: 0.736247 val_accuracy: 0.5562\n",
      "Epoch 41, CIFAR-10 Batch 1:  cost: 0.705283 val_accuracy: 0.5548\n",
      "Epoch 42, CIFAR-10 Batch 1:  cost: 0.680869 val_accuracy: 0.5616\n",
      "Epoch 43, CIFAR-10 Batch 1:  cost: 0.672166 val_accuracy: 0.5582\n",
      "Epoch 44, CIFAR-10 Batch 1:  cost: 0.659958 val_accuracy: 0.5652\n",
      "Epoch 45, CIFAR-10 Batch 1:  cost: 0.619153 val_accuracy: 0.5682\n",
      "Epoch 46, CIFAR-10 Batch 1:  cost: 0.640224 val_accuracy: 0.573\n",
      "Epoch 47, CIFAR-10 Batch 1:  cost: 0.615488 val_accuracy: 0.5604\n",
      "Epoch 48, CIFAR-10 Batch 1:  cost: 0.617721 val_accuracy: 0.5628\n",
      "Epoch 49, CIFAR-10 Batch 1:  cost: 0.569963 val_accuracy: 0.57\n",
      "Epoch 50, CIFAR-10 Batch 1:  cost: 0.536241 val_accuracy: 0.5704\n"
     ]
    }
   ],
   "source": [
    "\"\"\"\n",
    "DON'T MODIFY ANYTHING IN THIS CELL\n",
    "\"\"\"\n",
    "print('Checking the Training on a Single Batch...')\n",
    "with tf.Session() as sess:\n",
    "    # Initializing the variables\n",
    "    sess.run(tf.global_variables_initializer())\n",
    "    \n",
    "    # Training cycle\n",
    "    for epoch in range(epochs):\n",
    "        batch_i = 1\n",
    "        for batch_features, batch_labels in helper.load_preprocess_training_batch(batch_i, batch_size):\n",
    "            train_neural_network(sess, optimizer, keep_probability, batch_features, batch_labels)\n",
    "        print('Epoch {:>2}, CIFAR-10 Batch {}:  '.format(epoch + 1, batch_i), end='')\n",
    "        print_stats(sess, batch_features, batch_labels, cost, accuracy)\n",
    "    "
   ]
  },
  {
   "cell_type": "markdown",
   "metadata": {},
   "source": [
    "### 完全训练模型\n",
    "\n",
    "现在，单个 CIFAR-10 部分的准确率已经不错了，试试所有五个部分吧。"
   ]
  },
  {
   "cell_type": "code",
   "execution_count": 58,
   "metadata": {},
   "outputs": [
    {
     "name": "stdout",
     "output_type": "stream",
     "text": [
      "Training...\n",
      "Epoch  1, CIFAR-10 Batch 1:  cost: 2.21321 val_accuracy: 0.2344\n",
      "Epoch  1, CIFAR-10 Batch 2:  cost: 1.95305 val_accuracy: 0.2994\n",
      "Epoch  1, CIFAR-10 Batch 3:  cost: 1.59517 val_accuracy: 0.3382\n",
      "Epoch  1, CIFAR-10 Batch 4:  cost: 1.71543 val_accuracy: 0.3576\n",
      "Epoch  1, CIFAR-10 Batch 5:  cost: 1.70559 val_accuracy: 0.3692\n",
      "Epoch  2, CIFAR-10 Batch 1:  cost: 1.89933 val_accuracy: 0.3976\n",
      "Epoch  2, CIFAR-10 Batch 2:  cost: 1.78052 val_accuracy: 0.4004\n",
      "Epoch  2, CIFAR-10 Batch 3:  cost: 1.33585 val_accuracy: 0.4044\n",
      "Epoch  2, CIFAR-10 Batch 4:  cost: 1.56133 val_accuracy: 0.4242\n",
      "Epoch  2, CIFAR-10 Batch 5:  cost: 1.5328 val_accuracy: 0.4512\n",
      "Epoch  3, CIFAR-10 Batch 1:  cost: 1.62957 val_accuracy: 0.4594\n",
      "Epoch  3, CIFAR-10 Batch 2:  cost: 1.63319 val_accuracy: 0.4634\n",
      "Epoch  3, CIFAR-10 Batch 3:  cost: 1.12313 val_accuracy: 0.4698\n",
      "Epoch  3, CIFAR-10 Batch 4:  cost: 1.51422 val_accuracy: 0.4614\n",
      "Epoch  3, CIFAR-10 Batch 5:  cost: 1.42573 val_accuracy: 0.493\n",
      "Epoch  4, CIFAR-10 Batch 1:  cost: 1.52877 val_accuracy: 0.494\n",
      "Epoch  4, CIFAR-10 Batch 2:  cost: 1.45972 val_accuracy: 0.5046\n",
      "Epoch  4, CIFAR-10 Batch 3:  cost: 1.11208 val_accuracy: 0.4898\n",
      "Epoch  4, CIFAR-10 Batch 4:  cost: 1.39448 val_accuracy: 0.4878\n",
      "Epoch  4, CIFAR-10 Batch 5:  cost: 1.33353 val_accuracy: 0.509\n",
      "Epoch  5, CIFAR-10 Batch 1:  cost: 1.40646 val_accuracy: 0.4938\n",
      "Epoch  5, CIFAR-10 Batch 2:  cost: 1.31984 val_accuracy: 0.5036\n",
      "Epoch  5, CIFAR-10 Batch 3:  cost: 1.08966 val_accuracy: 0.5126\n",
      "Epoch  5, CIFAR-10 Batch 4:  cost: 1.27555 val_accuracy: 0.51\n",
      "Epoch  5, CIFAR-10 Batch 5:  cost: 1.24593 val_accuracy: 0.5176\n",
      "Epoch  6, CIFAR-10 Batch 1:  cost: 1.38317 val_accuracy: 0.5254\n",
      "Epoch  6, CIFAR-10 Batch 2:  cost: 1.23105 val_accuracy: 0.5362\n",
      "Epoch  6, CIFAR-10 Batch 3:  cost: 1.03253 val_accuracy: 0.5254\n",
      "Epoch  6, CIFAR-10 Batch 4:  cost: 1.18764 val_accuracy: 0.529\n",
      "Epoch  6, CIFAR-10 Batch 5:  cost: 1.19594 val_accuracy: 0.5384\n",
      "Epoch  7, CIFAR-10 Batch 1:  cost: 1.28394 val_accuracy: 0.533\n",
      "Epoch  7, CIFAR-10 Batch 2:  cost: 1.18454 val_accuracy: 0.5382\n",
      "Epoch  7, CIFAR-10 Batch 3:  cost: 0.987416 val_accuracy: 0.5458\n",
      "Epoch  7, CIFAR-10 Batch 4:  cost: 1.11144 val_accuracy: 0.5478\n",
      "Epoch  7, CIFAR-10 Batch 5:  cost: 1.07907 val_accuracy: 0.5536\n",
      "Epoch  8, CIFAR-10 Batch 1:  cost: 1.25196 val_accuracy: 0.5524\n",
      "Epoch  8, CIFAR-10 Batch 2:  cost: 1.17836 val_accuracy: 0.5594\n",
      "Epoch  8, CIFAR-10 Batch 3:  cost: 0.944189 val_accuracy: 0.568\n",
      "Epoch  8, CIFAR-10 Batch 4:  cost: 1.02136 val_accuracy: 0.5658\n",
      "Epoch  8, CIFAR-10 Batch 5:  cost: 1.08969 val_accuracy: 0.5638\n",
      "Epoch  9, CIFAR-10 Batch 1:  cost: 1.20693 val_accuracy: 0.5664\n",
      "Epoch  9, CIFAR-10 Batch 2:  cost: 1.12938 val_accuracy: 0.584\n",
      "Epoch  9, CIFAR-10 Batch 3:  cost: 0.86538 val_accuracy: 0.581\n",
      "Epoch  9, CIFAR-10 Batch 4:  cost: 0.931667 val_accuracy: 0.5754\n",
      "Epoch  9, CIFAR-10 Batch 5:  cost: 0.966812 val_accuracy: 0.5818\n",
      "Epoch 10, CIFAR-10 Batch 1:  cost: 1.15923 val_accuracy: 0.5964\n",
      "Epoch 10, CIFAR-10 Batch 2:  cost: 1.05204 val_accuracy: 0.603\n",
      "Epoch 10, CIFAR-10 Batch 3:  cost: 0.85843 val_accuracy: 0.5914\n",
      "Epoch 10, CIFAR-10 Batch 4:  cost: 0.849485 val_accuracy: 0.6032\n",
      "Epoch 10, CIFAR-10 Batch 5:  cost: 0.91216 val_accuracy: 0.5914\n",
      "Epoch 11, CIFAR-10 Batch 1:  cost: 1.12421 val_accuracy: 0.5948\n",
      "Epoch 11, CIFAR-10 Batch 2:  cost: 0.991449 val_accuracy: 0.6124\n",
      "Epoch 11, CIFAR-10 Batch 3:  cost: 0.82869 val_accuracy: 0.608\n",
      "Epoch 11, CIFAR-10 Batch 4:  cost: 0.799064 val_accuracy: 0.617\n",
      "Epoch 11, CIFAR-10 Batch 5:  cost: 0.855707 val_accuracy: 0.5912\n",
      "Epoch 12, CIFAR-10 Batch 1:  cost: 0.983 val_accuracy: 0.6112\n",
      "Epoch 12, CIFAR-10 Batch 2:  cost: 0.983058 val_accuracy: 0.6206\n",
      "Epoch 12, CIFAR-10 Batch 3:  cost: 0.777562 val_accuracy: 0.5922\n",
      "Epoch 12, CIFAR-10 Batch 4:  cost: 0.737553 val_accuracy: 0.6168\n",
      "Epoch 12, CIFAR-10 Batch 5:  cost: 0.775631 val_accuracy: 0.6006\n",
      "Epoch 13, CIFAR-10 Batch 1:  cost: 0.937136 val_accuracy: 0.6234\n",
      "Epoch 13, CIFAR-10 Batch 2:  cost: 0.918925 val_accuracy: 0.6252\n",
      "Epoch 13, CIFAR-10 Batch 3:  cost: 0.733004 val_accuracy: 0.6166\n",
      "Epoch 13, CIFAR-10 Batch 4:  cost: 0.721753 val_accuracy: 0.6198\n",
      "Epoch 13, CIFAR-10 Batch 5:  cost: 0.733804 val_accuracy: 0.6172\n",
      "Epoch 14, CIFAR-10 Batch 1:  cost: 0.908475 val_accuracy: 0.6142\n",
      "Epoch 14, CIFAR-10 Batch 2:  cost: 0.819433 val_accuracy: 0.6318\n",
      "Epoch 14, CIFAR-10 Batch 3:  cost: 0.702346 val_accuracy: 0.6178\n",
      "Epoch 14, CIFAR-10 Batch 4:  cost: 0.64934 val_accuracy: 0.6254\n",
      "Epoch 14, CIFAR-10 Batch 5:  cost: 0.742358 val_accuracy: 0.619\n",
      "Epoch 15, CIFAR-10 Batch 1:  cost: 0.823564 val_accuracy: 0.635\n",
      "Epoch 15, CIFAR-10 Batch 2:  cost: 0.78966 val_accuracy: 0.6446\n",
      "Epoch 15, CIFAR-10 Batch 3:  cost: 0.63532 val_accuracy: 0.6252\n",
      "Epoch 15, CIFAR-10 Batch 4:  cost: 0.679872 val_accuracy: 0.6312\n",
      "Epoch 15, CIFAR-10 Batch 5:  cost: 0.673135 val_accuracy: 0.6212\n",
      "Epoch 16, CIFAR-10 Batch 1:  cost: 0.795734 val_accuracy: 0.644\n",
      "Epoch 16, CIFAR-10 Batch 2:  cost: 0.704105 val_accuracy: 0.649\n",
      "Epoch 16, CIFAR-10 Batch 3:  cost: 0.560381 val_accuracy: 0.6378\n",
      "Epoch 16, CIFAR-10 Batch 4:  cost: 0.570272 val_accuracy: 0.6506\n",
      "Epoch 16, CIFAR-10 Batch 5:  cost: 0.626011 val_accuracy: 0.6374\n",
      "Epoch 17, CIFAR-10 Batch 1:  cost: 0.763606 val_accuracy: 0.642\n",
      "Epoch 17, CIFAR-10 Batch 2:  cost: 0.730452 val_accuracy: 0.656\n",
      "Epoch 17, CIFAR-10 Batch 3:  cost: 0.568428 val_accuracy: 0.6358\n",
      "Epoch 17, CIFAR-10 Batch 4:  cost: 0.558885 val_accuracy: 0.6484\n",
      "Epoch 17, CIFAR-10 Batch 5:  cost: 0.631337 val_accuracy: 0.6412\n",
      "Epoch 18, CIFAR-10 Batch 1:  cost: 0.694835 val_accuracy: 0.6578\n",
      "Epoch 18, CIFAR-10 Batch 2:  cost: 0.648984 val_accuracy: 0.6574\n",
      "Epoch 18, CIFAR-10 Batch 3:  cost: 0.499898 val_accuracy: 0.653\n",
      "Epoch 18, CIFAR-10 Batch 4:  cost: 0.572529 val_accuracy: 0.6516\n",
      "Epoch 18, CIFAR-10 Batch 5:  cost: 0.607093 val_accuracy: 0.6584\n",
      "Epoch 19, CIFAR-10 Batch 1:  cost: 0.666438 val_accuracy: 0.6518\n",
      "Epoch 19, CIFAR-10 Batch 2:  cost: 0.592961 val_accuracy: 0.67\n",
      "Epoch 19, CIFAR-10 Batch 3:  cost: 0.567448 val_accuracy: 0.6348\n",
      "Epoch 19, CIFAR-10 Batch 4:  cost: 0.508012 val_accuracy: 0.656\n",
      "Epoch 19, CIFAR-10 Batch 5:  cost: 0.532399 val_accuracy: 0.6474\n",
      "Epoch 20, CIFAR-10 Batch 1:  cost: 0.624504 val_accuracy: 0.6592\n",
      "Epoch 20, CIFAR-10 Batch 2:  cost: 0.616586 val_accuracy: 0.6666\n",
      "Epoch 20, CIFAR-10 Batch 3:  cost: 0.479078 val_accuracy: 0.6618\n",
      "Epoch 20, CIFAR-10 Batch 4:  cost: 0.450457 val_accuracy: 0.663\n",
      "Epoch 20, CIFAR-10 Batch 5:  cost: 0.520613 val_accuracy: 0.6648\n",
      "Epoch 21, CIFAR-10 Batch 1:  cost: 0.624334 val_accuracy: 0.665\n",
      "Epoch 21, CIFAR-10 Batch 2:  cost: 0.592086 val_accuracy: 0.6758\n",
      "Epoch 21, CIFAR-10 Batch 3:  cost: 0.483594 val_accuracy: 0.6736\n",
      "Epoch 21, CIFAR-10 Batch 4:  cost: 0.420413 val_accuracy: 0.673\n",
      "Epoch 21, CIFAR-10 Batch 5:  cost: 0.473216 val_accuracy: 0.6538\n",
      "Epoch 22, CIFAR-10 Batch 1:  cost: 0.562051 val_accuracy: 0.6662\n",
      "Epoch 22, CIFAR-10 Batch 2:  cost: 0.514888 val_accuracy: 0.6768\n",
      "Epoch 22, CIFAR-10 Batch 3:  cost: 0.422603 val_accuracy: 0.6728\n",
      "Epoch 22, CIFAR-10 Batch 4:  cost: 0.385209 val_accuracy: 0.666\n",
      "Epoch 22, CIFAR-10 Batch 5:  cost: 0.460236 val_accuracy: 0.6576\n",
      "Epoch 23, CIFAR-10 Batch 1:  cost: 0.567946 val_accuracy: 0.6754\n",
      "Epoch 23, CIFAR-10 Batch 2:  cost: 0.524311 val_accuracy: 0.6748\n",
      "Epoch 23, CIFAR-10 Batch 3:  cost: 0.436817 val_accuracy: 0.6748\n",
      "Epoch 23, CIFAR-10 Batch 4:  cost: 0.395405 val_accuracy: 0.673\n",
      "Epoch 23, CIFAR-10 Batch 5:  cost: 0.41087 val_accuracy: 0.663\n",
      "Epoch 24, CIFAR-10 Batch 1:  cost: 0.503333 val_accuracy: 0.666\n",
      "Epoch 24, CIFAR-10 Batch 2:  cost: 0.509772 val_accuracy: 0.6724\n",
      "Epoch 24, CIFAR-10 Batch 3:  cost: 0.404432 val_accuracy: 0.6746\n",
      "Epoch 24, CIFAR-10 Batch 4:  cost: 0.370678 val_accuracy: 0.675\n",
      "Epoch 24, CIFAR-10 Batch 5:  cost: 0.455638 val_accuracy: 0.6618\n",
      "Epoch 25, CIFAR-10 Batch 1:  cost: 0.513227 val_accuracy: 0.6584\n",
      "Epoch 25, CIFAR-10 Batch 2:  cost: 0.492376 val_accuracy: 0.6772\n",
      "Epoch 25, CIFAR-10 Batch 3:  cost: 0.36578 val_accuracy: 0.6764\n",
      "Epoch 25, CIFAR-10 Batch 4:  cost: 0.386521 val_accuracy: 0.6708\n",
      "Epoch 25, CIFAR-10 Batch 5:  cost: 0.379208 val_accuracy: 0.679\n",
      "Epoch 26, CIFAR-10 Batch 1:  cost: 0.463207 val_accuracy: 0.6754\n",
      "Epoch 26, CIFAR-10 Batch 2:  cost: 0.416692 val_accuracy: 0.6806\n"
     ]
    },
    {
     "name": "stdout",
     "output_type": "stream",
     "text": [
      "Epoch 26, CIFAR-10 Batch 3:  cost: 0.371024 val_accuracy: 0.6808\n",
      "Epoch 26, CIFAR-10 Batch 4:  cost: 0.303605 val_accuracy: 0.671\n",
      "Epoch 26, CIFAR-10 Batch 5:  cost: 0.39993 val_accuracy: 0.6646\n",
      "Epoch 27, CIFAR-10 Batch 1:  cost: 0.426972 val_accuracy: 0.6758\n",
      "Epoch 27, CIFAR-10 Batch 2:  cost: 0.409419 val_accuracy: 0.6742\n",
      "Epoch 27, CIFAR-10 Batch 3:  cost: 0.375321 val_accuracy: 0.6808\n",
      "Epoch 27, CIFAR-10 Batch 4:  cost: 0.350676 val_accuracy: 0.6704\n",
      "Epoch 27, CIFAR-10 Batch 5:  cost: 0.386474 val_accuracy: 0.6774\n",
      "Epoch 28, CIFAR-10 Batch 1:  cost: 0.429455 val_accuracy: 0.676\n",
      "Epoch 28, CIFAR-10 Batch 2:  cost: 0.382713 val_accuracy: 0.6784\n",
      "Epoch 28, CIFAR-10 Batch 3:  cost: 0.336191 val_accuracy: 0.683\n",
      "Epoch 28, CIFAR-10 Batch 4:  cost: 0.338472 val_accuracy: 0.6744\n",
      "Epoch 28, CIFAR-10 Batch 5:  cost: 0.322124 val_accuracy: 0.6758\n",
      "Epoch 29, CIFAR-10 Batch 1:  cost: 0.359378 val_accuracy: 0.6826\n",
      "Epoch 29, CIFAR-10 Batch 2:  cost: 0.384499 val_accuracy: 0.6754\n",
      "Epoch 29, CIFAR-10 Batch 3:  cost: 0.313616 val_accuracy: 0.685\n",
      "Epoch 29, CIFAR-10 Batch 4:  cost: 0.29726 val_accuracy: 0.6726\n",
      "Epoch 29, CIFAR-10 Batch 5:  cost: 0.399989 val_accuracy: 0.6734\n",
      "Epoch 30, CIFAR-10 Batch 1:  cost: 0.388335 val_accuracy: 0.6878\n",
      "Epoch 30, CIFAR-10 Batch 2:  cost: 0.348164 val_accuracy: 0.6826\n",
      "Epoch 30, CIFAR-10 Batch 3:  cost: 0.295604 val_accuracy: 0.683\n",
      "Epoch 30, CIFAR-10 Batch 4:  cost: 0.311887 val_accuracy: 0.6706\n",
      "Epoch 30, CIFAR-10 Batch 5:  cost: 0.312929 val_accuracy: 0.6812\n",
      "Epoch 31, CIFAR-10 Batch 1:  cost: 0.383556 val_accuracy: 0.683\n",
      "Epoch 31, CIFAR-10 Batch 2:  cost: 0.404035 val_accuracy: 0.6824\n",
      "Epoch 31, CIFAR-10 Batch 3:  cost: 0.289503 val_accuracy: 0.6786\n",
      "Epoch 31, CIFAR-10 Batch 4:  cost: 0.310159 val_accuracy: 0.674\n",
      "Epoch 31, CIFAR-10 Batch 5:  cost: 0.31133 val_accuracy: 0.67\n",
      "Epoch 32, CIFAR-10 Batch 1:  cost: 0.331413 val_accuracy: 0.677\n",
      "Epoch 32, CIFAR-10 Batch 2:  cost: 0.3526 val_accuracy: 0.6794\n",
      "Epoch 32, CIFAR-10 Batch 3:  cost: 0.309163 val_accuracy: 0.6776\n",
      "Epoch 32, CIFAR-10 Batch 4:  cost: 0.328472 val_accuracy: 0.6726\n",
      "Epoch 32, CIFAR-10 Batch 5:  cost: 0.304661 val_accuracy: 0.68\n",
      "Epoch 33, CIFAR-10 Batch 1:  cost: 0.356376 val_accuracy: 0.6746\n",
      "Epoch 33, CIFAR-10 Batch 2:  cost: 0.342129 val_accuracy: 0.684\n",
      "Epoch 33, CIFAR-10 Batch 3:  cost: 0.27664 val_accuracy: 0.6698\n",
      "Epoch 33, CIFAR-10 Batch 4:  cost: 0.278777 val_accuracy: 0.6724\n",
      "Epoch 33, CIFAR-10 Batch 5:  cost: 0.320275 val_accuracy: 0.665\n",
      "Epoch 34, CIFAR-10 Batch 1:  cost: 0.384784 val_accuracy: 0.677\n",
      "Epoch 34, CIFAR-10 Batch 2:  cost: 0.323345 val_accuracy: 0.686\n",
      "Epoch 34, CIFAR-10 Batch 3:  cost: 0.307105 val_accuracy: 0.6744\n",
      "Epoch 34, CIFAR-10 Batch 4:  cost: 0.244014 val_accuracy: 0.6692\n",
      "Epoch 34, CIFAR-10 Batch 5:  cost: 0.291633 val_accuracy: 0.678\n",
      "Epoch 35, CIFAR-10 Batch 1:  cost: 0.299395 val_accuracy: 0.679\n",
      "Epoch 35, CIFAR-10 Batch 2:  cost: 0.397066 val_accuracy: 0.6734\n",
      "Epoch 35, CIFAR-10 Batch 3:  cost: 0.273152 val_accuracy: 0.6864\n",
      "Epoch 35, CIFAR-10 Batch 4:  cost: 0.22551 val_accuracy: 0.6794\n",
      "Epoch 35, CIFAR-10 Batch 5:  cost: 0.283884 val_accuracy: 0.6826\n",
      "Epoch 36, CIFAR-10 Batch 1:  cost: 0.377308 val_accuracy: 0.6678\n",
      "Epoch 36, CIFAR-10 Batch 2:  cost: 0.324527 val_accuracy: 0.676\n",
      "Epoch 36, CIFAR-10 Batch 3:  cost: 0.264692 val_accuracy: 0.6656\n",
      "Epoch 36, CIFAR-10 Batch 4:  cost: 0.255895 val_accuracy: 0.6738\n",
      "Epoch 36, CIFAR-10 Batch 5:  cost: 0.252016 val_accuracy: 0.6826\n",
      "Epoch 37, CIFAR-10 Batch 1:  cost: 0.328506 val_accuracy: 0.6706\n",
      "Epoch 37, CIFAR-10 Batch 2:  cost: 0.281593 val_accuracy: 0.6846\n",
      "Epoch 37, CIFAR-10 Batch 3:  cost: 0.264996 val_accuracy: 0.6652\n",
      "Epoch 37, CIFAR-10 Batch 4:  cost: 0.225888 val_accuracy: 0.6724\n",
      "Epoch 37, CIFAR-10 Batch 5:  cost: 0.248807 val_accuracy: 0.6816\n",
      "Epoch 38, CIFAR-10 Batch 1:  cost: 0.310452 val_accuracy: 0.667\n",
      "Epoch 38, CIFAR-10 Batch 2:  cost: 0.284983 val_accuracy: 0.6736\n",
      "Epoch 38, CIFAR-10 Batch 3:  cost: 0.280724 val_accuracy: 0.6594\n",
      "Epoch 38, CIFAR-10 Batch 4:  cost: 0.197968 val_accuracy: 0.6734\n",
      "Epoch 38, CIFAR-10 Batch 5:  cost: 0.220946 val_accuracy: 0.688\n",
      "Epoch 39, CIFAR-10 Batch 1:  cost: 0.268587 val_accuracy: 0.6722\n",
      "Epoch 39, CIFAR-10 Batch 2:  cost: 0.284031 val_accuracy: 0.676\n",
      "Epoch 39, CIFAR-10 Batch 3:  cost: 0.245417 val_accuracy: 0.6586\n",
      "Epoch 39, CIFAR-10 Batch 4:  cost: 0.232408 val_accuracy: 0.6676\n",
      "Epoch 39, CIFAR-10 Batch 5:  cost: 0.23088 val_accuracy: 0.6836\n",
      "Epoch 40, CIFAR-10 Batch 1:  cost: 0.259696 val_accuracy: 0.679\n",
      "Epoch 40, CIFAR-10 Batch 2:  cost: 0.252652 val_accuracy: 0.679\n",
      "Epoch 40, CIFAR-10 Batch 3:  cost: 0.23722 val_accuracy: 0.6548\n",
      "Epoch 40, CIFAR-10 Batch 4:  cost: 0.221492 val_accuracy: 0.661\n",
      "Epoch 40, CIFAR-10 Batch 5:  cost: 0.223721 val_accuracy: 0.6814\n",
      "Epoch 41, CIFAR-10 Batch 1:  cost: 0.260028 val_accuracy: 0.6704\n",
      "Epoch 41, CIFAR-10 Batch 2:  cost: 0.272696 val_accuracy: 0.6756\n",
      "Epoch 41, CIFAR-10 Batch 3:  cost: 0.23415 val_accuracy: 0.6696\n",
      "Epoch 41, CIFAR-10 Batch 4:  cost: 0.232177 val_accuracy: 0.656\n",
      "Epoch 41, CIFAR-10 Batch 5:  cost: 0.223443 val_accuracy: 0.6738\n",
      "Epoch 42, CIFAR-10 Batch 1:  cost: 0.253212 val_accuracy: 0.6732\n",
      "Epoch 42, CIFAR-10 Batch 2:  cost: 0.285206 val_accuracy: 0.6766\n",
      "Epoch 42, CIFAR-10 Batch 3:  cost: 0.19791 val_accuracy: 0.6758\n",
      "Epoch 42, CIFAR-10 Batch 4:  cost: 0.184484 val_accuracy: 0.6622\n",
      "Epoch 42, CIFAR-10 Batch 5:  cost: 0.189391 val_accuracy: 0.6876\n",
      "Epoch 43, CIFAR-10 Batch 1:  cost: 0.234405 val_accuracy: 0.6824\n",
      "Epoch 43, CIFAR-10 Batch 2:  cost: 0.316409 val_accuracy: 0.6692\n",
      "Epoch 43, CIFAR-10 Batch 3:  cost: 0.215307 val_accuracy: 0.6666\n",
      "Epoch 43, CIFAR-10 Batch 4:  cost: 0.194432 val_accuracy: 0.653\n",
      "Epoch 43, CIFAR-10 Batch 5:  cost: 0.176994 val_accuracy: 0.6806\n",
      "Epoch 44, CIFAR-10 Batch 1:  cost: 0.280462 val_accuracy: 0.6708\n",
      "Epoch 44, CIFAR-10 Batch 2:  cost: 0.266324 val_accuracy: 0.6778\n",
      "Epoch 44, CIFAR-10 Batch 3:  cost: 0.228019 val_accuracy: 0.6708\n",
      "Epoch 44, CIFAR-10 Batch 4:  cost: 0.161307 val_accuracy: 0.669\n",
      "Epoch 44, CIFAR-10 Batch 5:  cost: 0.182649 val_accuracy: 0.6876\n",
      "Epoch 45, CIFAR-10 Batch 1:  cost: 0.223796 val_accuracy: 0.6716\n",
      "Epoch 45, CIFAR-10 Batch 2:  cost: 0.252933 val_accuracy: 0.681\n",
      "Epoch 45, CIFAR-10 Batch 3:  cost: 0.196332 val_accuracy: 0.6664\n",
      "Epoch 45, CIFAR-10 Batch 4:  cost: 0.19952 val_accuracy: 0.6588\n",
      "Epoch 45, CIFAR-10 Batch 5:  cost: 0.193927 val_accuracy: 0.6788\n",
      "Epoch 46, CIFAR-10 Batch 1:  cost: 0.223862 val_accuracy: 0.679\n",
      "Epoch 46, CIFAR-10 Batch 2:  cost: 0.247472 val_accuracy: 0.6744\n",
      "Epoch 46, CIFAR-10 Batch 3:  cost: 0.190946 val_accuracy: 0.6752\n",
      "Epoch 46, CIFAR-10 Batch 4:  cost: 0.168856 val_accuracy: 0.664\n",
      "Epoch 46, CIFAR-10 Batch 5:  cost: 0.182419 val_accuracy: 0.678\n",
      "Epoch 47, CIFAR-10 Batch 1:  cost: 0.213042 val_accuracy: 0.6726\n",
      "Epoch 47, CIFAR-10 Batch 2:  cost: 0.281192 val_accuracy: 0.6662\n",
      "Epoch 47, CIFAR-10 Batch 3:  cost: 0.207054 val_accuracy: 0.6698\n",
      "Epoch 47, CIFAR-10 Batch 4:  cost: 0.193932 val_accuracy: 0.6714\n",
      "Epoch 47, CIFAR-10 Batch 5:  cost: 0.173413 val_accuracy: 0.6804\n",
      "Epoch 48, CIFAR-10 Batch 1:  cost: 0.217273 val_accuracy: 0.6722\n",
      "Epoch 48, CIFAR-10 Batch 2:  cost: 0.21893 val_accuracy: 0.6772\n",
      "Epoch 48, CIFAR-10 Batch 3:  cost: 0.21333 val_accuracy: 0.6562\n",
      "Epoch 48, CIFAR-10 Batch 4:  cost: 0.132027 val_accuracy: 0.6768\n",
      "Epoch 48, CIFAR-10 Batch 5:  cost: 0.165696 val_accuracy: 0.6844\n",
      "Epoch 49, CIFAR-10 Batch 1:  cost: 0.223211 val_accuracy: 0.6842\n",
      "Epoch 49, CIFAR-10 Batch 2:  cost: 0.241608 val_accuracy: 0.6864\n",
      "Epoch 49, CIFAR-10 Batch 3:  cost: 0.157985 val_accuracy: 0.671\n",
      "Epoch 49, CIFAR-10 Batch 4:  cost: 0.162213 val_accuracy: 0.6624\n",
      "Epoch 49, CIFAR-10 Batch 5:  cost: 0.150724 val_accuracy: 0.678\n",
      "Epoch 50, CIFAR-10 Batch 1:  cost: 0.210347 val_accuracy: 0.6796\n",
      "Epoch 50, CIFAR-10 Batch 2:  cost: 0.23486 val_accuracy: 0.674\n",
      "Epoch 50, CIFAR-10 Batch 3:  cost: 0.176342 val_accuracy: 0.6696\n",
      "Epoch 50, CIFAR-10 Batch 4:  cost: 0.136587 val_accuracy: 0.6748\n",
      "Epoch 50, CIFAR-10 Batch 5:  cost: 0.165898 val_accuracy: 0.6734\n"
     ]
    }
   ],
   "source": [
    "\"\"\"\n",
    "DON'T MODIFY ANYTHING IN THIS CELL\n",
    "\"\"\"\n",
    "save_model_path = './image_classification'\n",
    "\n",
    "print('Training...')\n",
    "with tf.Session() as sess:\n",
    "    # Initializing the variables\n",
    "    sess.run(tf.global_variables_initializer())\n",
    "    \n",
    "    # Training cycle\n",
    "    for epoch in range(epochs):\n",
    "        # Loop over all batches\n",
    "        n_batches = 5\n",
    "        for batch_i in range(1, n_batches + 1):\n",
    "            for batch_features, batch_labels in helper.load_preprocess_training_batch(batch_i, batch_size):\n",
    "                train_neural_network(sess, optimizer, keep_probability, batch_features, batch_labels)\n",
    "            print('Epoch {:>2}, CIFAR-10 Batch {}:  '.format(epoch + 1, batch_i), end='')\n",
    "            print_stats(sess, batch_features, batch_labels, cost, accuracy)\n",
    "            \n",
    "    # Save Model\n",
    "    saver = tf.train.Saver()\n",
    "    save_path = saver.save(sess, save_model_path)"
   ]
  },
  {
   "cell_type": "markdown",
   "metadata": {},
   "source": [
    "# 检查点\n",
    "\n",
    "模型已保存到本地。\n",
    "\n",
    "## 测试模型\n",
    "\n",
    "利用测试数据集测试你的模型。这将是最终的准确率。你的准确率应该高于 50%。如果没达到，请继续调整模型结构和参数。"
   ]
  },
  {
   "cell_type": "code",
   "execution_count": 59,
   "metadata": {},
   "outputs": [
    {
     "name": "stdout",
     "output_type": "stream",
     "text": [
      "INFO:tensorflow:Restoring parameters from ./image_classification\n",
      "Testing Accuracy: 0.6850276898734177\n",
      "\n"
     ]
    },
    {
     "data": {
      "image/png": "[encoded data removed]",
      "text/plain": [
       "<matplotlib.figure.Figure at 0x1a23d23d68>"
      ]
     },
     "metadata": {
      "image/png": {
       "height": 319,
       "width": 355
      }
     },
     "output_type": "display_data"
    }
   ],
   "source": [
    "\"\"\"\n",
    "DON'T MODIFY ANYTHING IN THIS CELL\n",
    "\"\"\"\n",
    "%matplotlib inline\n",
    "%config InlineBackend.figure_format = 'retina'\n",
    "\n",
    "import tensorflow as tf\n",
    "import pickle\n",
    "import helper\n",
    "import random\n",
    "\n",
    "# Set batch size if not already set\n",
    "try:\n",
    "    if batch_size:\n",
    "        pass\n",
    "except NameError:\n",
    "    batch_size = 64\n",
    "\n",
    "save_model_path = './image_classification'\n",
    "n_samples = 4\n",
    "top_n_predictions = 3\n",
    "\n",
    "def test_model():\n",
    "    \"\"\"\n",
    "    Test the saved model against the test dataset\n",
    "    \"\"\"\n",
    "\n",
    "    test_features, test_labels = pickle.load(open('preprocess_test.p', mode='rb'))\n",
    "    loaded_graph = tf.Graph()\n",
    "\n",
    "    with tf.Session(graph=loaded_graph) as sess:\n",
    "        # Load model\n",
    "        loader = tf.train.import_meta_graph(save_model_path + '.meta')\n",
    "        loader.restore(sess, save_model_path)\n",
    "\n",
    "        # Get Tensors from loaded model\n",
    "        loaded_x = loaded_graph.get_tensor_by_name('x:0')\n",
    "        loaded_y = loaded_graph.get_tensor_by_name('y:0')\n",
    "        loaded_keep_prob = loaded_graph.get_tensor_by_name('keep_prob:0')\n",
    "        loaded_logits = loaded_graph.get_tensor_by_name('logits:0')\n",
    "        loaded_acc = loaded_graph.get_tensor_by_name('accuracy:0')\n",
    "        \n",
    "        # Get accuracy in batches for memory limitations\n",
    "        test_batch_acc_total = 0\n",
    "        test_batch_count = 0\n",
    "        \n",
    "        for test_feature_batch, test_label_batch in helper.batch_features_labels(test_features, test_labels, batch_size):\n",
    "            test_batch_acc_total += sess.run(\n",
    "                loaded_acc,\n",
    "                feed_dict={loaded_x: test_feature_batch, loaded_y: test_label_batch, loaded_keep_prob: 1.0})\n",
    "            test_batch_count += 1\n",
    "\n",
    "        print('Testing Accuracy: {}\\n'.format(test_batch_acc_total/test_batch_count))\n",
    "\n",
    "        # Print Random Samples\n",
    "        random_test_features, random_test_labels = tuple(zip(*random.sample(list(zip(test_features, test_labels)), n_samples)))\n",
    "        random_test_predictions = sess.run(\n",
    "            tf.nn.top_k(tf.nn.softmax(loaded_logits), top_n_predictions),\n",
    "            feed_dict={loaded_x: random_test_features, loaded_y: random_test_labels, loaded_keep_prob: 1.0})\n",
    "        helper.display_image_predictions(random_test_features, random_test_labels, random_test_predictions)\n",
    "\n",
    "\n",
    "test_model()"
   ]
  },
  {
   "cell_type": "markdown",
   "metadata": {},
   "source": [
    "## 为何准确率只有50-80%？\n",
    "\n",
    "你可能想问，为何准确率不能更高了？首先，对于简单的 CNN 网络来说，50% 已经不低了。纯粹猜测的准确率为10%。但是，你可能注意到有人的准确率[远远超过 80%](http://rodrigob.github.io/are_we_there_yet/build/classification_datasets_results.html#43494641522d3130)。这是因为我们还没有介绍所有的神经网络知识。我们还需要掌握一些其他技巧。\n",
    "\n",
    "## 提交项目\n",
    "\n",
    "提交项目时，确保先运行所有单元，然后再保存记事本。将 notebook 文件另存为“dlnd_image_classification.ipynb”，再在目录 \"File\" -> \"Download as\" 另存为 HTML 格式。请在提交的项目中包含 “helper.py” 和 “problem_unittests.py” 文件。\n"
   ]
  }
 ],
 "metadata": {
  "kernelspec": {
   "display_name": "Python [default]",
   "language": "python",
   "name": "python3"
  },
  "language_info": {
   "codemirror_mode": {
    "name": "ipython",
    "version": 3
   },
   "file_extension": ".py",
   "mimetype": "text/x-python",
   "name": "python",
   "nbconvert_exporter": "python",
   "pygments_lexer": "ipython3",
   "version": "3.6.3"
  }
 },
 "nbformat": 4,
 "nbformat_minor": 1
}
